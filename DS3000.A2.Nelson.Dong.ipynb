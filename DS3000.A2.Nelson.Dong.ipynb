{
 "cells": [
  {
   "cell_type": "markdown",
   "metadata": {},
   "source": [
    "# Nelson Dong 2"
   ]
  },
  {
   "cell_type": "markdown",
   "metadata": {},
   "source": [
    "# DS 3000 - Assignment 2\n",
    "\n",
    "**Student Name**: Nelson\n",
    "\n",
    "**Date**: 1/19/23\n",
    "\n",
    "\n",
    "### Submission Instructions\n",
    "Submit this `ipynb` file to canvas.\n",
    "\n",
    "The `ipynb` format stores outputs from the last time you ran the notebook.  (When you open a notebook it has the figures and outputs of the last time you ran it too).  To ensure that your submitted `ipynb` file represents your latest code, make sure to give a fresh run `Kernel > Restart & Run All` just before uploading the `ipynb` file to Canvas.\n",
    "\n",
    "### Academic Integrity\n",
    "\n",
    "**Writing your homework is an individual effort.**  You may discuss general python problems with other students but under no circumstances should you observe another student's code which was written for this assignment, from this year or past years.  Pop into office hours or DM us in MS Teams if you have a specific question about your work or if you would like another pair of eyes or talk through your code.\n",
    "\n",
    "Don't forget to cite websites which helped you solve a problem in a unique way.  You can do this in markdown near the code or with a simple one-line comment. You do not need to cite the official python documentation.\n",
    "\n",
    "**Documentation / style counts for credit**  Please refer to the Pep-8 style, to improve the readability and consistency of your Python code. For more information, read the following article [How to Write Beautiful Python Code With PEP 8](https://realpython.com/python-pep8/) or ask your TA's for tips.\n",
    "\n",
    "**NOTE:<span style='color:red'> Write python expressions to answer ALL questions below and ensure that you use the `print()` function to display the output.</span>** Each question should be answered in a new code cell. For example, your solution for question 1.1 should be in a different code cell from your solution for question 1.2."
   ]
  },
  {
   "cell_type": "markdown",
   "metadata": {},
   "source": [
    "## Question 1: Comparision Operators (10 pts)\n",
    "We can use comparison operators to check Python values for equality, inequality, or determine if they are greater or less than each other. The output from these expressions return a boolean value i.e. `True` or `False`. \n",
    "\n",
    "Its now your turn to write python expressions, that use comparison operators, for each of the following:\n",
    "1. -3 * 9 not equal to 27\n",
    "2. 100 - 1 smaller than or equal to 10<sup>2</sup>\n",
    "3. `True` equal to `1` \n",
    "4. 'python' equal to 'Python'\n",
    "5. 3 * 35 is bigger than 50"
   ]
  },
  {
   "cell_type": "code",
   "execution_count": 1,
   "metadata": {},
   "outputs": [
    {
     "name": "stdout",
     "output_type": "stream",
     "text": [
      "True\n"
     ]
    }
   ],
   "source": [
    "#Write the python expression to answer question 1.1\n",
    "solution1 = -3 * 9 !=  27\n",
    "print(solution1)"
   ]
  },
  {
   "cell_type": "code",
   "execution_count": 2,
   "metadata": {},
   "outputs": [
    {
     "name": "stdout",
     "output_type": "stream",
     "text": [
      "True\n"
     ]
    }
   ],
   "source": [
    "#Write the python expression to answer question 1.2\n",
    "solution2 = 100 - 1 <= 10**2\n",
    "print(solution2)"
   ]
  },
  {
   "cell_type": "code",
   "execution_count": 3,
   "metadata": {},
   "outputs": [
    {
     "name": "stdout",
     "output_type": "stream",
     "text": [
      "True\n"
     ]
    }
   ],
   "source": [
    "#Write the python expression to answer question 1.3\n",
    "solution3 = True == 1\n",
    "print(solution3)"
   ]
  },
  {
   "cell_type": "code",
   "execution_count": 4,
   "metadata": {},
   "outputs": [
    {
     "name": "stdout",
     "output_type": "stream",
     "text": [
      "False\n"
     ]
    }
   ],
   "source": [
    "#Write the python expression to answer question 1.4\n",
    "solution4 = \"python\" == \"Python\"\n",
    "print(solution4)"
   ]
  },
  {
   "cell_type": "code",
   "execution_count": 5,
   "metadata": {},
   "outputs": [
    {
     "name": "stdout",
     "output_type": "stream",
     "text": [
      "True\n"
     ]
    }
   ],
   "source": [
    "#Write the python expression to answer question 1.5\n",
    "solution5 = 3*25 > 50\n",
    "print(solution5)"
   ]
  },
  {
   "cell_type": "code",
   "execution_count": null,
   "metadata": {},
   "outputs": [],
   "source": []
  },
  {
   "cell_type": "markdown",
   "metadata": {},
   "source": [
    "## Question 2: Boolean Operators (10 pts)\n",
    "We can use the boolean operators `and`, `or` and `not` to combine multiple expressions that are either `True` or `False`. This allows us to write more advanced python expressions. Its now your turn to use boolean operators to answer each of the questions below. Perfrom the following:\n",
    "\n",
    "- Define a variable called x, which contains the value 9. \n",
    "- Create a function called `validate_x()` which takes x as input. Inside the function, write boolean expressions to check the following: \n",
    "    1. `x` is bigger than 8 and smaller than 15\n",
    "    2. `x` is smaller than 10 or bigger than 12\n",
    "    3. `x * 3` is divisible by 9 and 7\n",
    "\n",
    "Ensure that you print user-friendly messages when you check each expression above."
   ]
  },
  {
   "cell_type": "code",
   "execution_count": 6,
   "metadata": {},
   "outputs": [
    {
     "name": "stdout",
     "output_type": "stream",
     "text": [
      "x: 9  is greater than 8 and smaller than 15\n",
      "x: 9  is smaller than 10 or bigger than 12\n"
     ]
    }
   ],
   "source": [
    "#Write the python code to answer question 2\n",
    "x = 9\n",
    "def validate_x(x):\n",
    "    if(x > 8 and x < 15):\n",
    "        print(\"x:\", x, \" is greater than 8 and smaller than 15\")\n",
    "    if(x < 10 or x > 12):\n",
    "        print(\"x:\", x, \" is smaller than 10 or bigger than 12\")\n",
    "    if(x * 3 % 9 == 0 and x * 3 % 7 == 0):\n",
    "        print(\"x:\", x, \"is divisible by 9 or 7\")\n",
    "validate_x(9)"
   ]
  },
  {
   "cell_type": "code",
   "execution_count": null,
   "metadata": {},
   "outputs": [],
   "source": []
  },
  {
   "cell_type": "code",
   "execution_count": null,
   "metadata": {},
   "outputs": [],
   "source": []
  },
  {
   "cell_type": "markdown",
   "metadata": {},
   "source": [
    "## Question 3: The Guessing Game (30 pts + 2 bonus pts)\n",
    "Write a program that plays the game of **Guess the Number**. Your program should first choose the number to be guessed by selecting an integer at random between the range of 1 to 50 (inclusive)<sup>†</sup>.  The program should then display the following message:\n",
    "\n",
    " \n",
    "```\n",
    "I'm thinking of a number between 1 and 50. Can you guess the number?\n",
    "Enter your first guess: \n",
    "```\n",
    "\n",
    "The program should allow the user to enter their selected number. If the guess is less than the randomly generated number, display:\n",
    "\n",
    "```\n",
    "Your guess is too low. Try again! \n",
    "```\n",
    "\n",
    "The user should then be allowed to make another attempt. If the guess is greater than the randomly generated number, display:\n",
    "\n",
    "```\n",
    "Your guess is too high. Try again! \n",
    "```\n",
    "\n",
    "If the user guessed the correct number, your program should output the following message and then terminate:\n",
    "```\n",
    "Thats correct!\n",
    "```\n",
    "\n",
    "The program should give the user a maximum of 10 attempts to guess the correct number (Hint: use a loop).\n",
    "\n",
    "\n",
    "<sup>†</sup>**Tip**: you can generate pseudo-random numbers using the `randint()` function.\n",
    "\n",
    "BONUS: <span style='color:red'> I'll give an additional 2 bonus points, if you can keep track of the number of guesses that the user made and display a friendly message notifying the user about the number of attempts they made. Only display this message to the user when they guessed the correct number.</span>"
   ]
  },
  {
   "cell_type": "code",
   "execution_count": 2,
   "metadata": {},
   "outputs": [
    {
     "name": "stdout",
     "output_type": "stream",
     "text": [
      "I'm thinking of a number between 1 and 50. Can you guess the number?\n",
      "Enter your guess: 25\n",
      "Thats correct! You used: 1 guesses\n"
     ]
    }
   ],
   "source": [
    "#Write your python code to answer question 3\n",
    "from random import randint\n",
    "\n",
    "print(\"I'm thinking of a number between 1 and 50. Can you guess the number?\")\n",
    "\n",
    "random = randint(1, 50)\n",
    "for i in range(10):\n",
    "    guess = int(input(\"Enter your guess: \"))\n",
    "    if(guess < random):\n",
    "        print(\"Your guess is too low. Try again!\")\n",
    "    elif(guess > random):\n",
    "        print(\"Your guess is too high. Try again!\")\n",
    "    elif(guess == random):\n",
    "        print(\"Thats correct! You used:\", i + 1, \"guesses\")\n",
    "        break;\n"
   ]
  },
  {
   "cell_type": "code",
   "execution_count": null,
   "metadata": {},
   "outputs": [],
   "source": []
  }
 ],
 "metadata": {
  "kernelspec": {
   "display_name": "Python 3 (ipykernel)",
   "language": "python",
   "name": "python3"
  },
  "language_info": {
   "codemirror_mode": {
    "name": "ipython",
    "version": 3
   },
   "file_extension": ".py",
   "mimetype": "text/x-python",
   "name": "python",
   "nbconvert_exporter": "python",
   "pygments_lexer": "ipython3",
   "version": "3.10.7 (tags/v3.10.7:6cc6b13, Sep  5 2022, 14:08:36) [MSC v.1933 64 bit (AMD64)]"
  },
  "vscode": {
   "interpreter": {
    "hash": "062ebaf9e8ce946ecb972b965e6051e43711dd5038533bfb279bad98a32189cd"
   }
  }
 },
 "nbformat": 4,
 "nbformat_minor": 4
}
