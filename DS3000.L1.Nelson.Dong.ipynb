{
 "cells": [
  {
   "cell_type": "markdown",
   "id": "0f199b9f",
   "metadata": {},
   "source": [
    "# Nelson Dong 1"
   ]
  },
  {
   "cell_type": "code",
   "execution_count": 15,
   "id": "50c1b89d",
   "metadata": {},
   "outputs": [
    {
     "name": "stdout",
     "output_type": "stream",
     "text": [
      "What is your Name?Nelson\n",
      "What is your Birth Year?2003\n",
      "Hello Nelson. You are 19 today\n"
     ]
    }
   ],
   "source": [
    "name = input(\"What is your Name?\")\n",
    "birthYear = int(input(\"What is your Birth Year?\"))\n",
    "print(\"Hello\", name + \".\", \"You are\", 2022 - birthYear, \"today\")"
   ]
  }
 ],
 "metadata": {
  "kernelspec": {
   "display_name": "Python 3 (ipykernel)",
   "language": "python",
   "name": "python3"
  },
  "language_info": {
   "codemirror_mode": {
    "name": "ipython",
    "version": 3
   },
   "file_extension": ".py",
   "mimetype": "text/x-python",
   "name": "python",
   "nbconvert_exporter": "python",
   "pygments_lexer": "ipython3",
   "version": "3.9.13"
  }
 },
 "nbformat": 4,
 "nbformat_minor": 5
}
